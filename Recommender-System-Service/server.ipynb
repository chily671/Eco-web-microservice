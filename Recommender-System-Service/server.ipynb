{
 "cells": [
  {
   "cell_type": "code",
   "execution_count": 23,
   "metadata": {},
   "outputs": [
    {
     "data": {
      "text/html": [
       "<div>\n",
       "<style scoped>\n",
       "    .dataframe tbody tr th:only-of-type {\n",
       "        vertical-align: middle;\n",
       "    }\n",
       "\n",
       "    .dataframe tbody tr th {\n",
       "        vertical-align: top;\n",
       "    }\n",
       "\n",
       "    .dataframe thead th {\n",
       "        text-align: right;\n",
       "    }\n",
       "</style>\n",
       "<table border=\"1\" class=\"dataframe\">\n",
       "  <thead>\n",
       "    <tr style=\"text-align: right;\">\n",
       "      <th></th>\n",
       "      <th>user_id</th>\n",
       "      <th>Product ID</th>\n",
       "      <th>Product Name</th>\n",
       "      <th>Brand</th>\n",
       "      <th>Price</th>\n",
       "      <th>Category</th>\n",
       "      <th>Rating</th>\n",
       "    </tr>\n",
       "  </thead>\n",
       "  <tbody>\n",
       "    <tr>\n",
       "      <th>0</th>\n",
       "      <td>1</td>\n",
       "      <td>P001</td>\n",
       "      <td>Classic Leather</td>\n",
       "      <td>Omega</td>\n",
       "      <td>300</td>\n",
       "      <td>Watch</td>\n",
       "      <td>4.6</td>\n",
       "    </tr>\n",
       "    <tr>\n",
       "      <th>1</th>\n",
       "      <td>1</td>\n",
       "      <td>P003</td>\n",
       "      <td>Explorer Chrono</td>\n",
       "      <td>Rolex</td>\n",
       "      <td>1500</td>\n",
       "      <td>Watch</td>\n",
       "      <td>4.8</td>\n",
       "    </tr>\n",
       "    <tr>\n",
       "      <th>2</th>\n",
       "      <td>2</td>\n",
       "      <td>P002</td>\n",
       "      <td>Digital Pro</td>\n",
       "      <td>Casio</td>\n",
       "      <td>120</td>\n",
       "      <td>Smartwatch</td>\n",
       "      <td>4.2</td>\n",
       "    </tr>\n",
       "    <tr>\n",
       "      <th>3</th>\n",
       "      <td>2</td>\n",
       "      <td>P008</td>\n",
       "      <td>Innovator</td>\n",
       "      <td>Xiaomi</td>\n",
       "      <td>100</td>\n",
       "      <td>Smartwatch</td>\n",
       "      <td>4.0</td>\n",
       "    </tr>\n",
       "    <tr>\n",
       "      <th>4</th>\n",
       "      <td>3</td>\n",
       "      <td>P001</td>\n",
       "      <td>Classic Leather</td>\n",
       "      <td>Omega</td>\n",
       "      <td>300</td>\n",
       "      <td>Watch</td>\n",
       "      <td>4.6</td>\n",
       "    </tr>\n",
       "    <tr>\n",
       "      <th>5</th>\n",
       "      <td>3</td>\n",
       "      <td>P007</td>\n",
       "      <td>Classic Sport</td>\n",
       "      <td>Seiko</td>\n",
       "      <td>350</td>\n",
       "      <td>Watch</td>\n",
       "      <td>4.4</td>\n",
       "    </tr>\n",
       "    <tr>\n",
       "      <th>6</th>\n",
       "      <td>4</td>\n",
       "      <td>P004</td>\n",
       "      <td>Diver 300</td>\n",
       "      <td>Tag Heuer</td>\n",
       "      <td>2500</td>\n",
       "      <td>Watch</td>\n",
       "      <td>4.9</td>\n",
       "    </tr>\n",
       "    <tr>\n",
       "      <th>7</th>\n",
       "      <td>4</td>\n",
       "      <td>P009</td>\n",
       "      <td>Ocean Explorer</td>\n",
       "      <td>Citizen</td>\n",
       "      <td>180</td>\n",
       "      <td>Watch</td>\n",
       "      <td>3.8</td>\n",
       "    </tr>\n",
       "    <tr>\n",
       "      <th>8</th>\n",
       "      <td>5</td>\n",
       "      <td>P005</td>\n",
       "      <td>Modern Quartz</td>\n",
       "      <td>Tissot</td>\n",
       "      <td>400</td>\n",
       "      <td>Watch</td>\n",
       "      <td>4.1</td>\n",
       "    </tr>\n",
       "    <tr>\n",
       "      <th>9</th>\n",
       "      <td>5</td>\n",
       "      <td>P010</td>\n",
       "      <td>Aviator</td>\n",
       "      <td>Hamilton</td>\n",
       "      <td>700</td>\n",
       "      <td>Watch</td>\n",
       "      <td>4.3</td>\n",
       "    </tr>\n",
       "    <tr>\n",
       "      <th>10</th>\n",
       "      <td>6</td>\n",
       "      <td>P001</td>\n",
       "      <td>Classic Leather</td>\n",
       "      <td>Omega</td>\n",
       "      <td>300</td>\n",
       "      <td>Watch</td>\n",
       "      <td>4.6</td>\n",
       "    </tr>\n",
       "    <tr>\n",
       "      <th>11</th>\n",
       "      <td>6</td>\n",
       "      <td>P011</td>\n",
       "      <td>Solar Power</td>\n",
       "      <td>Citizen</td>\n",
       "      <td>200</td>\n",
       "      <td>Watch</td>\n",
       "      <td>4.2</td>\n",
       "    </tr>\n",
       "    <tr>\n",
       "      <th>12</th>\n",
       "      <td>7</td>\n",
       "      <td>P003</td>\n",
       "      <td>Explorer Chrono</td>\n",
       "      <td>Rolex</td>\n",
       "      <td>1500</td>\n",
       "      <td>Watch</td>\n",
       "      <td>4.8</td>\n",
       "    </tr>\n",
       "    <tr>\n",
       "      <th>13</th>\n",
       "      <td>7</td>\n",
       "      <td>P004</td>\n",
       "      <td>Diver 300</td>\n",
       "      <td>Tag Heuer</td>\n",
       "      <td>2500</td>\n",
       "      <td>Watch</td>\n",
       "      <td>4.9</td>\n",
       "    </tr>\n",
       "    <tr>\n",
       "      <th>14</th>\n",
       "      <td>8</td>\n",
       "      <td>P002</td>\n",
       "      <td>Digital Pro</td>\n",
       "      <td>Casio</td>\n",
       "      <td>120</td>\n",
       "      <td>Smartwatch</td>\n",
       "      <td>4.2</td>\n",
       "    </tr>\n",
       "    <tr>\n",
       "      <th>15</th>\n",
       "      <td>8</td>\n",
       "      <td>P008</td>\n",
       "      <td>Innovator</td>\n",
       "      <td>Xiaomi</td>\n",
       "      <td>100</td>\n",
       "      <td>Smartwatch</td>\n",
       "      <td>4.0</td>\n",
       "    </tr>\n",
       "    <tr>\n",
       "      <th>16</th>\n",
       "      <td>9</td>\n",
       "      <td>P005</td>\n",
       "      <td>Modern Quartz</td>\n",
       "      <td>Tissot</td>\n",
       "      <td>400</td>\n",
       "      <td>Watch</td>\n",
       "      <td>4.1</td>\n",
       "    </tr>\n",
       "    <tr>\n",
       "      <th>17</th>\n",
       "      <td>9</td>\n",
       "      <td>P010</td>\n",
       "      <td>Aviator</td>\n",
       "      <td>Hamilton</td>\n",
       "      <td>700</td>\n",
       "      <td>Watch</td>\n",
       "      <td>4.3</td>\n",
       "    </tr>\n",
       "    <tr>\n",
       "      <th>18</th>\n",
       "      <td>10</td>\n",
       "      <td>P007</td>\n",
       "      <td>Classic Sport</td>\n",
       "      <td>Seiko</td>\n",
       "      <td>350</td>\n",
       "      <td>Watch</td>\n",
       "      <td>4.4</td>\n",
       "    </tr>\n",
       "    <tr>\n",
       "      <th>19</th>\n",
       "      <td>10</td>\n",
       "      <td>P009</td>\n",
       "      <td>Ocean Explorer</td>\n",
       "      <td>Citizen</td>\n",
       "      <td>180</td>\n",
       "      <td>Watch</td>\n",
       "      <td>3.8</td>\n",
       "    </tr>\n",
       "  </tbody>\n",
       "</table>\n",
       "</div>"
      ],
      "text/plain": [
       "    user_id Product ID     Product Name      Brand  Price    Category  Rating\n",
       "0         1       P001  Classic Leather      Omega    300       Watch     4.6\n",
       "1         1       P003  Explorer Chrono      Rolex   1500       Watch     4.8\n",
       "2         2       P002      Digital Pro      Casio    120  Smartwatch     4.2\n",
       "3         2       P008        Innovator     Xiaomi    100  Smartwatch     4.0\n",
       "4         3       P001  Classic Leather      Omega    300       Watch     4.6\n",
       "5         3       P007    Classic Sport      Seiko    350       Watch     4.4\n",
       "6         4       P004        Diver 300  Tag Heuer   2500       Watch     4.9\n",
       "7         4       P009   Ocean Explorer    Citizen    180       Watch     3.8\n",
       "8         5       P005    Modern Quartz     Tissot    400       Watch     4.1\n",
       "9         5       P010          Aviator   Hamilton    700       Watch     4.3\n",
       "10        6       P001  Classic Leather      Omega    300       Watch     4.6\n",
       "11        6       P011      Solar Power    Citizen    200       Watch     4.2\n",
       "12        7       P003  Explorer Chrono      Rolex   1500       Watch     4.8\n",
       "13        7       P004        Diver 300  Tag Heuer   2500       Watch     4.9\n",
       "14        8       P002      Digital Pro      Casio    120  Smartwatch     4.2\n",
       "15        8       P008        Innovator     Xiaomi    100  Smartwatch     4.0\n",
       "16        9       P005    Modern Quartz     Tissot    400       Watch     4.1\n",
       "17        9       P010          Aviator   Hamilton    700       Watch     4.3\n",
       "18       10       P007    Classic Sport      Seiko    350       Watch     4.4\n",
       "19       10       P009   Ocean Explorer    Citizen    180       Watch     3.8"
      ]
     },
     "execution_count": 23,
     "metadata": {},
     "output_type": "execute_result"
    }
   ],
   "source": [
    "import pandas as pd\n",
    "data = pd.read_csv('sample1_watch_data.csv')\n",
    "data.head(20)"
   ]
  },
  {
   "cell_type": "code",
   "execution_count": 15,
   "metadata": {},
   "outputs": [
    {
     "name": "stdout",
     "output_type": "stream",
     "text": [
      "2.2.2\n"
     ]
    }
   ],
   "source": [
    "print(pd.__version__)"
   ]
  },
  {
   "cell_type": "code",
   "execution_count": 16,
   "metadata": {},
   "outputs": [],
   "source": [
    "from surprise import Reader, Dataset, SVD\n",
    "from sklearn.feature_extraction.text import TfidfVectorizer\n",
    "from sklearn.metrics.pairwise import linear_kernel"
   ]
  },
  {
   "cell_type": "code",
   "execution_count": 17,
   "metadata": {},
   "outputs": [
    {
     "name": "stderr",
     "output_type": "stream",
     "text": [
      "C:\\Users\\hazak\\AppData\\Local\\Temp\\ipykernel_23932\\3521548319.py:3: SettingWithCopyWarning: \n",
      "A value is trying to be set on a copy of a slice from a DataFrame.\n",
      "Try using .loc[row_indexer,col_indexer] = value instead\n",
      "\n",
      "See the caveats in the documentation: https://pandas.pydata.org/pandas-docs/stable/user_guide/indexing.html#returning-a-view-versus-a-copy\n",
      "  content_df['content'] = content_df.apply(lambda row: ' '.join(row.dropna().astype(str)), axis=1)\n"
     ]
    }
   ],
   "source": [
    "#content based filtering\n",
    "content_df = data[['Product ID', 'Product Name', 'Brand', 'Price', 'Category']]\n",
    "content_df['content'] = content_df.apply(lambda row: ' '.join(row.dropna().astype(str)), axis=1)\n",
    "\n",
    "# use tf-idf to vectorize the content into a matrix of matrix of tf-idf features\n",
    "tfidf_vectorizer = TfidfVectorizer()\n",
    "content_matrix = tfidf_vectorizer.fit_transform(content_df['content'])\n",
    "\n",
    "content_similarity = linear_kernel(content_matrix, content_matrix)\n",
    "\n",
    "reader = Reader(rating_scale=(1, 5))\n",
    "data = Dataset.load_from_df(data[['user_id', 'Product ID', 'Rating']], reader)\n",
    "\n",
    "def get_content_based_recommendations(product_id, top_n):\n",
    "    index = content_df[content_df['Product ID'] == product_id].index[0]\n",
    "    similarity_scores = content_similarity[index]\n",
    "    similar_indices = similarity_scores.argsort()[::-1][1:top_n+1] \n",
    "    recommendations = content_df.loc[similar_indices, 'Product ID'].values  \n",
    "    return recommendations.tolist() "
   ]
  },
  {
   "cell_type": "code",
   "execution_count": 18,
   "metadata": {},
   "outputs": [
    {
     "data": {
      "text/plain": [
       "['P001', 'P001', 'P007', 'P007', 'P004']"
      ]
     },
     "execution_count": 18,
     "metadata": {},
     "output_type": "execute_result"
    }
   ],
   "source": [
    "get_content_based_recommendations(\"P001\", 5)"
   ]
  },
  {
   "cell_type": "code",
   "execution_count": 19,
   "metadata": {},
   "outputs": [],
   "source": [
    "# collaborative filtering\n",
    "algo = SVD()\n",
    "trainset = data.build_full_trainset()\n",
    "algo.fit(trainset)\n",
    "\n",
    "def get_collaborative_filtering_recommendations(userId, top_n):\n",
    "    testset = trainset.build_anti_testset()\n",
    "    testset = filter(lambda x: x[0] == userId, testset)\n",
    "    predictions = algo.test(testset)\n",
    "    predictions.sort(key=lambda x: x.est, reverse=True)\n",
    "    recommendations = [prediction.iid for prediction in predictions[:top_n]]\n",
    "    return recommendations"
   ]
  },
  {
   "cell_type": "code",
   "execution_count": 20,
   "metadata": {},
   "outputs": [
    {
     "data": {
      "text/plain": [
       "['P004', 'P005', 'P011', 'P008', 'P007']"
      ]
     },
     "execution_count": 20,
     "metadata": {},
     "output_type": "execute_result"
    }
   ],
   "source": [
    "get_collaborative_filtering_recommendations(1, 5)"
   ]
  },
  {
   "cell_type": "code",
   "execution_count": 21,
   "metadata": {},
   "outputs": [],
   "source": [
    "# hybrid approach\n",
    "def hybrid_filtering(user_id, product_id, top_n):\n",
    "    content_based_recommendations = get_content_based_recommendations(product_id, top_n)\n",
    "    collaborative_filtering_recommendations = get_collaborative_filtering_recommendations(user_id, top_n)\n",
    "    hybrid_recommendations = list(set(content_based_recommendations + collaborative_filtering_recommendations))\n",
    "    return hybrid_recommendations[:top_n]"
   ]
  },
  {
   "cell_type": "code",
   "execution_count": 22,
   "metadata": {},
   "outputs": [
    {
     "name": "stdout",
     "output_type": "stream",
     "text": [
      "Hybrid recommendations for user 1 and product P001:\n",
      "1.Product ID: P007\n",
      "2.Product ID: P004\n",
      "3.Product ID: P011\n"
     ]
    }
   ],
   "source": [
    "user_id = 1\n",
    "product_id = \"P001\"\n",
    "top_n = 3\n",
    "hybrid_recommendations = hybrid_filtering(user_id, product_id, top_n)\n",
    "print(f\"Hybrid recommendations for user {user_id} and product {product_id}:\")\n",
    "for i, recommendation in enumerate(hybrid_recommendations):\n",
    "    print(f\"{i+1}.Product ID: {recommendation}\")"
   ]
  }
 ],
 "metadata": {
  "kernelspec": {
   "display_name": ".venv",
   "language": "python",
   "name": "python3"
  },
  "language_info": {
   "codemirror_mode": {
    "name": "ipython",
    "version": 3
   },
   "file_extension": ".py",
   "mimetype": "text/x-python",
   "name": "python",
   "nbconvert_exporter": "python",
   "pygments_lexer": "ipython3",
   "version": "3.9.13"
  }
 },
 "nbformat": 4,
 "nbformat_minor": 2
}
